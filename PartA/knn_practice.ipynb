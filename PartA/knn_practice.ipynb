{
 "cells": [
  {
   "cell_type": "code",
   "execution_count": 1,
   "metadata": {},
   "outputs": [],
   "source": [
    "import numpy as np"
   ]
  },
  {
   "cell_type": "code",
   "execution_count": null,
   "metadata": {},
   "outputs": [],
   "source": [
    "class KNN:\n",
    "    def __init__(self, k=5, p=2):\n",
    "        self.k = k\n",
    "        self.p = p\n",
    "    \n",
    "    def fit(self, X, y):\n",
    "        self.X = X\n",
    "        self.y = y\n",
    "        return self\n",
    "    \n",
    "    def predict(self, X):\n",
    "        predictions = []\n",
    "        for pred_row in X:\n",
    "            eucledian_distance = []\n",
    "            for X_row in self.X:\n",
    "                distance = np.linalg.norm(X_row - pred_row, ord=self.p)\n",
    "                eucledian_distance.append(distance)\n",
    "            \n",
    "            neighbors = self.y[np.argsort(eucledian_distance)[: self.k]]\n",
    "            neighbors_bc = np.bincount(neighbors)\n",
    "            prediction = np.argmax(neighbors_bc)\n",
    "            predictions.append(prediction)\n",
    "        return np.array(predictions)\n",
    "    \n",
    "\n",
    "    # init:\n",
    "    # k = k\n",
    "    # p = p\n",
    "\n",
    "\n",
    "    # fit:\n",
    "    # X= X\n",
    "    # y = y\n",
    "\n",
    "\n",
    "    # predict:\n",
    "\n",
    "    # predictions = []\n",
    "\n",
    "    # for pred_row in X:\n",
    "    #     euc_dis = []\n",
    "    #     for x_row in self.X:\n",
    "    #         dis = np.linalg.norm(x_row-pred_row, ord=self.p)\n",
    "    #         euc_dis.append(dis)\n",
    "    #     neighbors = self.y[np.argsort(euc_dis)[:self.k]]\n",
    "    #     neighbors_bc = np.bincount(neighbors)\n",
    "    #     prediction = np.argmax(neighbors_bc)\n",
    "\n"
   ]
  }
 ],
 "metadata": {
  "kernelspec": {
   "display_name": "venv",
   "language": "python",
   "name": "python3"
  },
  "language_info": {
   "codemirror_mode": {
    "name": "ipython",
    "version": 3
   },
   "file_extension": ".py",
   "mimetype": "text/x-python",
   "name": "python",
   "nbconvert_exporter": "python",
   "pygments_lexer": "ipython3",
   "version": "3.8.10"
  },
  "orig_nbformat": 4
 },
 "nbformat": 4,
 "nbformat_minor": 2
}
