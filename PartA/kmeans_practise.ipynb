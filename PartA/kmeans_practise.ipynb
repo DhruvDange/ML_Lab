{
 "cells": [
  {
   "cell_type": "code",
   "execution_count": 1,
   "metadata": {},
   "outputs": [],
   "source": [
    "import random\n",
    "import numpy as np"
   ]
  },
  {
   "cell_type": "code",
   "execution_count": null,
   "metadata": {},
   "outputs": [],
   "source": [
    "class KMeans:\n",
    "\n",
    "    def __init__(self, k=3, max_iter=100):\n",
    "        self.k = k\n",
    "        self.max_iter = max_iter\n",
    "        self.centroids = None\n",
    "\n",
    "    def fit_transform(self, X):\n",
    "\n",
    "        random_index = random.sample(range(0, X.shape[0]), self.k)\n",
    "        self.centroids = X[random_index]\n",
    "\n",
    "        for i in range(self.max_iter):\n",
    "            cluster_group = self.assign_cluster(X)\n",
    "            old_cluster = self.centroids\n",
    "            self.centroids = self.move_centroids(X, cluster_group)\n",
    "\n",
    "            if(old_cluster == self.centroids).all():\n",
    "                break\n",
    "        return cluster_group\n",
    "    \n",
    "\n",
    "    def assign_cluster(self, X):\n",
    "        cluster_group = []\n",
    "        distances = []\n",
    "\n",
    "        for row in X:\n",
    "            for centroid in self.centroids:\n",
    "                distance = np.sqrt(np.dot(row-centroid, row-centroid))\n",
    "                distances.append(distance)\n",
    "            min_distance = min(distances)\n",
    "            min_index = distances.index(min_distance)\n",
    "            cluster_group.append(min_index)\n",
    "            distances.clear()\n",
    "        return np.array(cluster_group)\n",
    "    \n",
    "    def move_centroids(self, X, cluster_group):\n",
    "        new_centroids = []\n",
    "\n",
    "        cluster_type = np.unique(cluster_group)\n",
    "\n",
    "        for type in cluster_type:\n",
    "            new_centroids.append(X[cluster_group == type].mean(axis=0))\n",
    "        return np.array(new_centroids)"
   ]
  }
 ],
 "metadata": {
  "kernelspec": {
   "display_name": "venv",
   "language": "python",
   "name": "python3"
  },
  "language_info": {
   "codemirror_mode": {
    "name": "ipython",
    "version": 3
   },
   "file_extension": ".py",
   "mimetype": "text/x-python",
   "name": "python",
   "nbconvert_exporter": "python",
   "pygments_lexer": "ipython3",
   "version": "3.8.10"
  },
  "orig_nbformat": 4
 },
 "nbformat": 4,
 "nbformat_minor": 2
}
